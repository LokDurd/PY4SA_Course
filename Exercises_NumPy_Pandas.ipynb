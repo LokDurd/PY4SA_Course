{
 "cells": [
  {
   "cell_type": "markdown",
   "id": "22251e58-78c4-44bf-b39e-a3e7619120ee",
   "metadata": {},
   "source": [
    "# Python for Spatial Analysis\n",
    "## Second part of the module of GG3209 Spatial Analysis with GIS.\n",
    "### Notebook to practice NumPy and Pandas - Exercises\n",
    "\n",
    "---\n",
    "Dr Fernando Benitez -  University of St Andrews - School of Geography and Sustainable Development - First Iteration 2023 v.1.0 "
   ]
  },
  {
   "cell_type": "markdown",
   "id": "eaf0b951",
   "metadata": {},
   "source": [
    "# Practicing NumPy"
   ]
  },
  {
   "cell_type": "markdown",
   "id": "36aaf97a",
   "metadata": {},
   "source": [
    "## 2.0 \n",
    "Import numpy under the alias `np`."
   ]
  },
  {
   "cell_type": "code",
   "execution_count": 1,
   "id": "51aa53cd",
   "metadata": {},
   "outputs": [],
   "source": [
    "# The code goes here\n",
    "import numpy as np"
   ]
  },
  {
   "cell_type": "markdown",
   "id": "10df0fb9",
   "metadata": {},
   "source": [
    "## 2.1 \n",
    "\n",
    "Create the following arrays:\n",
    "\n",
    "* Create an array of 10 ones.\n",
    "\n",
    "* Create an array of the integers 1 to 20.\n",
    "\n",
    "* Create a 5 x 5 matrix of ones with a dtype int."
   ]
  },
  {
   "cell_type": "code",
   "execution_count": 8,
   "id": "5a1b83d1",
   "metadata": {},
   "outputs": [
    {
     "name": "stdout",
     "output_type": "stream",
     "text": [
      "[1 1 1 1 1 1 1 1 1 1]\n",
      "[ 0  1  2  3  4  5  6  7  8  9 10 11 12 13 14 15 16 17 18 19 20]\n",
      "[[[1. 1. 1. 1. 1.]\n",
      "  [1. 1. 1. 1. 1.]\n",
      "  [1. 1. 1. 1. 1.]\n",
      "  [1. 1. 1. 1. 1.]\n",
      "  [1. 1. 1. 1. 1.]]]\n"
     ]
    }
   ],
   "source": [
    "#Code comes here\n",
    "arr1 = np.tile(1,10)\n",
    "print(arr1)\n",
    "arr2 = np.arange(0,21,1, dtype=\"int\")\n",
    "print(arr2)\n",
    "arr3 = np.ones((1,5,5))\n",
    "print(arr3)\n",
    "#OR OTHER WAY:\n",
    "print(np.ones(10))\n",
    "print(np.array(range(21)))\n",
    "print(np.ones((5, 5), dtype=int))\n"
   ]
  },
  {
   "cell_type": "markdown",
   "id": "f4d5f95c",
   "metadata": {},
   "source": [
    "## 2.2 \n",
    "Use numpy to:\n",
    "1. Create an 3D matrix of 3 x 3 x 3 full of random numbers drawn from a standard normal distribution (hint: `np.random.randn()`)\n",
    "2. Reshape the above array into shape (27,)"
   ]
  },
  {
   "cell_type": "code",
   "execution_count": 2,
   "id": "ac3df66e",
   "metadata": {},
   "outputs": [
    {
     "name": "stdout",
     "output_type": "stream",
     "text": [
      "[[[0.44909783 0.0857903  0.66046259]\n",
      "  [0.79311493 0.17834812 0.36276768]\n",
      "  [0.75152472 0.63104199 0.59315886]]\n",
      "\n",
      " [[0.03596454 0.71216161 0.64884334]\n",
      "  [0.5372875  0.37423376 0.70427692]\n",
      "  [0.44441604 0.01252221 0.90742204]]\n",
      "\n",
      " [[0.79993677 0.14249007 0.3652703 ]\n",
      "  [0.81615616 0.70838386 0.53914593]\n",
      "  [0.09101564 0.35789399 0.42224106]]]\n",
      "[0.20898058 0.1713259  0.41118639 0.34212029 0.2783816  0.26824784\n",
      " 0.46891848 0.52070801 0.52317972 0.28326244 0.28584481 0.32713284\n",
      " 0.20652109 0.88563105 0.77709503 0.85858098 0.37636726 0.22764676\n",
      " 0.24932806 0.42126809 0.58291223 0.70282844 0.35420788 0.16855701\n",
      " 0.40753845 0.30433735 0.5824361 ]\n"
     ]
    }
   ],
   "source": [
    "# Code comes here\n",
    "arr2 = np.random.rand(3, 3, 3)\n",
    "print(arr2)\n",
    "\n",
    "arr3 = np.random.rand(27,)\n",
    "print(arr3)"
   ]
  },
  {
   "cell_type": "markdown",
   "id": "5bbbbc97",
   "metadata": {},
   "source": [
    "# 2.3 \n",
    "\n",
    "Create an array of 20 linearly spaced numbers between 1 and 10."
   ]
  },
  {
   "cell_type": "code",
   "execution_count": 3,
   "id": "3304c495",
   "metadata": {},
   "outputs": [
    {
     "name": "stdout",
     "output_type": "stream",
     "text": [
      "[ 1.          1.47368421  1.94736842  2.42105263  2.89473684  3.36842105\n",
      "  3.84210526  4.31578947  4.78947368  5.26315789  5.73684211  6.21052632\n",
      "  6.68421053  7.15789474  7.63157895  8.10526316  8.57894737  9.05263158\n",
      "  9.52631579 10.        ]\n"
     ]
    }
   ],
   "source": [
    "# Code comes he\n",
    "arr4 = np.linspace(1, 10, 20)\n",
    "print(arr4)"
   ]
  },
  {
   "cell_type": "markdown",
   "id": "fee4622b",
   "metadata": {
    "tags": []
   },
   "source": [
    "## 2.4\n",
    "\n",
    "Run the following code to create an array of shape 4 x 4 and then use indexing to produce the outputs shown below."
   ]
  },
  {
   "cell_type": "code",
   "execution_count": 5,
   "id": "ce54aa24",
   "metadata": {},
   "outputs": [],
   "source": [
    "import numpy as np\n",
    "a = np.arange(1, 17).reshape(4,-1)"
   ]
  },
  {
   "cell_type": "code",
   "execution_count": null,
   "id": "9fb30ef8",
   "metadata": {},
   "outputs": [],
   "source": [
    "20"
   ]
  },
  {
   "cell_type": "code",
   "execution_count": 28,
   "id": "e752079a",
   "metadata": {},
   "outputs": [
    {
     "name": "stdout",
     "output_type": "stream",
     "text": [
      "[[ 1  2  3  4]\n",
      " [ 5  6  7  8]\n",
      " [ 9 10 11 12]\n",
      " [13 14 15 16]]\n"
     ]
    }
   ],
   "source": [
    "#Code goes here\n",
    "print(a)"
   ]
  },
  {
   "cell_type": "markdown",
   "id": "24c2d6c3",
   "metadata": {
    "tags": []
   },
   "source": [
    "```python\n",
    "array([[ 9, 10],\n",
    "       [14, 15],\n",
    "       [19, 20],\n",
    "       [24, 25]])\n",
    "```"
   ]
  },
  {
   "cell_type": "code",
   "execution_count": 15,
   "id": "d86f1c2f",
   "metadata": {},
   "outputs": [
    {
     "data": {
      "text/plain": [
       "array([ 6,  7,  8,  9, 10])"
      ]
     },
     "execution_count": 15,
     "metadata": {},
     "output_type": "execute_result"
    }
   ],
   "source": [
    "# Code come here\n",
    "array = np.array([6, 7, 8, 9, 10])\n",
    "array"
   ]
  },
  {
   "cell_type": "markdown",
   "id": "984bb786",
   "metadata": {},
   "source": [
    "```python\n",
    "array([ 6,  7,  8,  9, 10])\n",
    "```"
   ]
  },
  {
   "cell_type": "code",
   "execution_count": null,
   "id": "943ec85c",
   "metadata": {},
   "outputs": [],
   "source": [
    "# Code comes here"
   ]
  },
  {
   "cell_type": "markdown",
   "id": "a8e576e0",
   "metadata": {},
   "source": [
    "## 2.5 \n",
    "\n",
    "Calculate the sum of all the numbers in `a`."
   ]
  },
  {
   "cell_type": "code",
   "execution_count": 7,
   "id": "bd34b207",
   "metadata": {},
   "outputs": [
    {
     "data": {
      "text/plain": [
       "array([28, 32, 36, 40])"
      ]
     },
     "execution_count": 7,
     "metadata": {},
     "output_type": "execute_result"
    }
   ],
   "source": [
    "# Code comes here\n",
    "sum(a)"
   ]
  },
  {
   "cell_type": "markdown",
   "id": "50c3950b",
   "metadata": {},
   "source": [
    "## 2.6 \n",
    "\n",
    "Calculate the sum of each row in `a`."
   ]
  },
  {
   "cell_type": "code",
   "execution_count": 6,
   "id": "de620d7d",
   "metadata": {},
   "outputs": [
    {
     "data": {
      "text/plain": [
       "array([10, 26, 42, 58])"
      ]
     },
     "execution_count": 6,
     "metadata": {},
     "output_type": "execute_result"
    }
   ],
   "source": [
    "# Code comes here\n",
    "a.sum(axis=1)"
   ]
  },
  {
   "cell_type": "markdown",
   "id": "ea9b2c11",
   "metadata": {},
   "source": [
    "## 2.7 \n",
    "\n",
    "Extract all values of `a` greater than the mean of `a` (hint: use a boolean mask)."
   ]
  },
  {
   "cell_type": "code",
   "execution_count": null,
   "id": "aef9b210",
   "metadata": {},
   "outputs": [],
   "source": [
    "# Code comes here"
   ]
  },
  {
   "cell_type": "markdown",
   "id": "9c31a0e1",
   "metadata": {},
   "source": [
    "# Practicing Pandas"
   ]
  },
  {
   "cell_type": "markdown",
   "id": "61c04b0c",
   "metadata": {},
   "source": [
    "## 2.8\n",
    "\n",
    "In this set of practice exercises we'll be investigating the carbon footprint of different foods. \n",
    "\n",
    "We'll be leveraging a dataset compiled by [Kasia Kulma](https://r-tastic.co.uk/post/from-messy-to-tidy/) and contributed to [R's Tidy Tuesday project](https://github.com/rfordatascience/tidytuesday).\n",
    "\n",
    "Start by importing pandas with the alias `pd`."
   ]
  },
  {
   "cell_type": "code",
   "execution_count": null,
   "id": "8b9ede0d",
   "metadata": {},
   "outputs": [],
   "source": [
    "# Codes comes here"
   ]
  },
  {
   "cell_type": "markdown",
   "id": "3d39a2d7",
   "metadata": {},
   "source": [
    "## 2.9 \n",
    "\n",
    "The dataset we'll be working with has the following columns:\n",
    "\n",
    "|column      |description |\n",
    "|:-------------|:-----------|\n",
    "|country       | Country Name |\n",
    "|food_category | Food Category |\n",
    "|consumption   | Consumption (kg/person/year) |\n",
    "|co2_emmission | Co2 Emission (Kg CO2/person/year) |\n",
    "\n",
    "\n",
    "Import the dataset as a dataframe named `df` from this url: <https://raw.githubusercontent.com/rfordatascience/tidytuesday/master/data/2020/2020-02-18/food_consumption.csv>"
   ]
  },
  {
   "cell_type": "code",
   "execution_count": null,
   "id": "b39d8ebb",
   "metadata": {},
   "outputs": [],
   "source": [
    "# Code comes here"
   ]
  },
  {
   "cell_type": "markdown",
   "id": "f903c8a1",
   "metadata": {},
   "source": [
    "## 2.10 \n",
    "\n",
    "How many rows and columns are there in the dataframe?"
   ]
  },
  {
   "cell_type": "code",
   "execution_count": null,
   "id": "39cd4f89",
   "metadata": {},
   "outputs": [],
   "source": [
    "#Code comes here"
   ]
  },
  {
   "cell_type": "markdown",
   "id": "8f0b87b0",
   "metadata": {},
   "source": [
    "## 2.11\n",
    "\n",
    "What is the mean `co2_emission` of the whole dataset?"
   ]
  },
  {
   "cell_type": "code",
   "execution_count": null,
   "id": "8a8b3edc",
   "metadata": {},
   "outputs": [],
   "source": [
    "# Code comes here"
   ]
  },
  {
   "cell_type": "markdown",
   "id": "1acb3cc5",
   "metadata": {},
   "source": [
    "## 2.12\n",
    "\n",
    "What is the maximum `co2_emmission` in the dataset and which food type and country does it belong to?"
   ]
  },
  {
   "cell_type": "code",
   "execution_count": null,
   "id": "04f58ddd",
   "metadata": {},
   "outputs": [],
   "source": [
    "# Code comes here"
   ]
  },
  {
   "cell_type": "markdown",
   "id": "68ba75e4",
   "metadata": {},
   "source": [
    "## 2.13\n",
    "\n",
    "How many countries produce more than 1000 Kg CO2/person/year for at least one food type?"
   ]
  },
  {
   "cell_type": "code",
   "execution_count": null,
   "id": "0dac7b68",
   "metadata": {},
   "outputs": [],
   "source": [
    "#code comes here"
   ]
  },
  {
   "cell_type": "markdown",
   "id": "507fe1cd",
   "metadata": {},
   "source": [
    "## 2.14\n",
    "\n",
    "Which country consumes the least amount of beef per person per year?\n"
   ]
  },
  {
   "cell_type": "code",
   "execution_count": null,
   "id": "e4bf7f60",
   "metadata": {},
   "outputs": [],
   "source": [
    "# code comes here"
   ]
  },
  {
   "cell_type": "markdown",
   "id": "e40cbc79",
   "metadata": {},
   "source": [
    "## 2.15\n",
    "\n",
    "What is the total emissions of all the meat products (Pork, Poultry, Fish, Lamb & Goat, Beef) in the dataset combined?"
   ]
  },
  {
   "cell_type": "code",
   "execution_count": null,
   "id": "932f7976",
   "metadata": {},
   "outputs": [],
   "source": [
    "# code comes here"
   ]
  },
  {
   "cell_type": "markdown",
   "id": "2e01f760",
   "metadata": {},
   "source": [
    "# 2.16 \n",
    "\n",
    "What is the total emissions of all other (non-meat) products in the dataset combined?"
   ]
  },
  {
   "cell_type": "code",
   "execution_count": null,
   "id": "6d0c8ac4",
   "metadata": {},
   "outputs": [],
   "source": [
    "# code comes here"
   ]
  },
  {
   "cell_type": "markdown",
   "id": "24d092f5",
   "metadata": {},
   "source": [
    "## Well done!\n",
    "\n",
    "That's all from this week, if you have any questions, do not forget to ask the TAs for assistance."
   ]
  }
 ],
 "metadata": {
  "kernelspec": {
   "display_name": "Python 3 (ipykernel)",
   "language": "python",
   "name": "python3"
  },
  "language_info": {
   "codemirror_mode": {
    "name": "ipython",
    "version": 3
   },
   "file_extension": ".py",
   "mimetype": "text/x-python",
   "name": "python",
   "nbconvert_exporter": "python",
   "pygments_lexer": "ipython3",
   "version": "3.10.9"
  },
  "vscode": {
   "interpreter": {
    "hash": "a62a218f45948969006c944db2ca1c519af623da5e08f864ae6aafcacb945df1"
   }
  }
 },
 "nbformat": 4,
 "nbformat_minor": 5
}
